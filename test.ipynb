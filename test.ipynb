{
 "cells": [
  {
   "cell_type": "markdown",
   "id": "504b8bb8",
   "metadata": {},
   "source": [
    "## test scrape_book_info() and get_product_details()"
   ]
  },
  {
   "cell_type": "code",
   "execution_count": 3,
   "id": "8065627d",
   "metadata": {},
   "outputs": [],
   "source": [
    "import requests\n",
    "import re\n",
    "url = \"http://books.toscrape.com/catalogue/1000-places-to-see-before-you-die_1/index.html\"\n",
    "resp = requests.get(url)"
   ]
  },
  {
   "cell_type": "code",
   "execution_count": 4,
   "id": "f703ab20",
   "metadata": {},
   "outputs": [
    {
     "data": {
      "text/plain": [
       "<Response [200]>"
      ]
     },
     "execution_count": 4,
     "metadata": {},
     "output_type": "execute_result"
    }
   ],
   "source": [
    "resp"
   ]
  },
  {
   "cell_type": "code",
   "execution_count": 5,
   "id": "5b41ad03",
   "metadata": {},
   "outputs": [],
   "source": [
    "content = resp.text"
   ]
  },
  {
   "cell_type": "code",
   "execution_count": 6,
   "id": "6d72418b",
   "metadata": {},
   "outputs": [
    {
     "data": {
      "text/plain": [
       "'\\n\\n<!DOCTYPE html>\\n<!--[if lt IE 7]>      <html lang=\"en-us\" class=\"no-js lt-ie9 lt-ie8 lt-ie7\"> <![endif]-->\\n<!--[if IE 7]>         <html lang=\"en-us\" class=\"no-js lt-ie9 lt-ie8\"> <![endif]-->\\n<!--[if IE 8]>         <html lang=\"en-us\" class=\"no-js lt-ie9\"> <![endif]-->\\n<!--[if gt IE 8]><!--> <html lang=\"en-us\" class=\"no-js\"> <!--<![endif]-->\\n    <head>\\n        <title>\\n    1,000 Places to See Before You Die | Books to Scrape - Sandbox\\n</title>\\n\\n        <meta http-equiv=\"content-type\" content=\"text/html; charset=UTF-8\" />\\n        <meta name=\"created\" content=\"24th Jun 2016 09:29\" />\\n        <meta name=\"description\" content=\"\\n    Around the World, continent by continent, here is the best the world has to offer: 1,000 places guaranteed to give travelers the shivers. Sacred ruins, grand hotels, wildlife preserves, hilltop villages, snack shacks, castles, festivals, reefs, restaurants, cathedrals, hidden islands, opera houses, museums, and more. Each entry tells exactly why it&#39;s essential to visit. Th Around the World, continent by continent, here is the best the world has to offer: 1,000 places guaranteed to give travelers the shivers. Sacred ruins, grand hotels, wildlife preserves, hilltop villages, snack shacks, castles, festivals, reefs, restaurants, cathedrals, hidden islands, opera houses, museums, and more. Each entry tells exactly why it&#39;s essential to visit. Then come the nuts and bolts: addresses, websites, phone and fax numbers, best times to visit. Stop dreaming and get going.This hefty volume reminds vacationers that hot tourist spots are small percentage of what&#39;s worth seeing out there. A quick sampling: Venice&#39;s Cipriani Hotel; California&#39;s Monterey Peninsula; the Lewis and Clark Trail in Oregon; the Great Wall of China; Robert Louis Stevenson&#39;s home in Western Samoa; and the Alhambra in Andalusia, Spain. Veteran travel guide writer Schultz divides the book geographically, presenting a little less than a page on each location. Each entry lists exactly where to find the spot (e.g. Moorea is located &quot;12 miles/19 km northwest of Tahiti; 10 minutes by air, 1 hour by boat&quot;) and when to go (e.g., if you want to check out The Complete Fly Fisher hotel in Montana, &quot;May and Sept.-Oct. offer productive angling in a solitary setting&quot;). This is an excellent resource for the intrepid traveler.Copyright 2003 Reed Business Information, Inc. ...more\\n\" />\\n        <meta name=\"viewport\" content=\"width=device-width\" />\\n        <meta name=\"robots\" content=\"NOARCHIVE,NOCACHE\" />\\n\\n        <!-- Le HTML5 shim, for IE6-8 support of HTML elements -->\\n        <!--[if lt IE 9]>\\n        <script src=\"//html5shim.googlecode.com/svn/trunk/html5.js\"></script>\\n        <![endif]-->\\n\\n        \\n            <link rel=\"shortcut icon\" href=\"../../static/oscar/favicon.ico\" />\\n        \\n\\n        \\n        \\n    \\n    \\n        <link rel=\"stylesheet\" type=\"text/css\" href=\"../../static/oscar/css/styles.css\" />\\n    \\n    <link rel=\"stylesheet\" href=\"../../static/oscar/js/bootstrap-datetimepicker/bootstrap-datetimepicker.css\" />\\n    <link rel=\"stylesheet\" type=\"text/css\" href=\"../../static/oscar/css/datetimepicker.css\" />\\n\\n\\n        \\n        \\n\\n        \\n\\n        \\n            \\n            \\n\\n        \\n    </head>\\n\\n    <body id=\"default\" class=\"default\">\\n        \\n        \\n    \\n    \\n    <header class=\"header container-fluid\">\\n        <div class=\"page_inner\">\\n            <div class=\"row\">\\n                <div class=\"col-sm-8 h1\"><a href=\"../../index.html\">Books to Scrape</a><small> We love being scraped!</small>\\n</div>\\n\\n                \\n            </div>\\n        </div>\\n    </header>\\n\\n    \\n    \\n        <div class=\"container-fluid page\">\\n            <div class=\"page_inner\">\\n                \\n<ul class=\"breadcrumb\">\\n    <li>\\n        <a href=\"../../index.html\">Home</a>\\n    </li>\\n    \\n        \\n        <li>\\n            <a href=\"../category/books_1/index.html\">Books</a>\\n        </li>\\n        \\n        <li>\\n            <a href=\"../category/books/travel_2/index.html\">Travel</a>\\n        </li>\\n        \\n        <li class=\"active\">1,000 Places to See Before You Die</li>\\n\\n        \\n        \\n    \\n</ul>\\n\\n                \\n\\n                \\n\\n\\n\\n<div id=\"messages\">\\n\\n</div>\\n\\n                \\n                <div class=\"content\">\\n                    \\n\\n                    \\n                    <div id=\"promotions\">\\n                        \\n                    </div>\\n\\n                    \\n                    <div id=\"content_inner\">\\n\\n<article class=\"product_page\"><!-- Start of product page -->\\n\\n    <div class=\"row\">\\n\\n        \\n        <div class=\"col-sm-6\">\\n            \\n\\n\\n\\n\\n    \\n\\n    \\n\\n        \\n        <div id=\"product_gallery\" class=\"carousel\">\\n            <div class=\"thumbnail\">\\n                <div class=\"carousel-inner\">\\n                    <div class=\"item active\">\\n                    \\n                        \\n                            <img src=\"../../media/cache/9e/10/9e106f81f65b293e488718a4f54a6a3f.jpg\" alt=\"1,000 Places to See Before You Die\" />\\n                        \\n                    \\n                    </div>\\n                </div>\\n            </div>\\n        </div>\\n\\n    \\n\\n\\n        </div>\\n        \\n\\n        \\n        <div class=\"col-sm-6 product_main\">\\n            \\n            \\n            <h1>1,000 Places to See Before You Die</h1>\\n\\n            \\n                \\n\\n\\n\\n\\n\\n\\n    \\n        <p class=\"price_color\">Â£26.08</p>\\n    \\n\\n<p class=\"instock availability\">\\n    <i class=\"icon-ok\"></i>\\n    \\n        In stock (1 available)\\n    \\n</p>\\n\\n            \\n\\n            \\n                \\n\\n\\n\\n    <p class=\"star-rating Five\">\\n        <i class=\"icon-star\"></i>\\n        <i class=\"icon-star\"></i>\\n        <i class=\"icon-star\"></i>\\n        <i class=\"icon-star\"></i>\\n        <i class=\"icon-star\"></i>\\n\\n        <!-- <small><a href=\"/catalogue/1000-places-to-see-before-you-die_1/reviews/\">\\n        \\n                \\n                    0 customer reviews\\n                \\n        </a></small>\\n         -->&nbsp;\\n\\n\\n<!-- \\n    <a id=\"write_review\" href=\"/catalogue/1000-places-to-see-before-you-die_1/reviews/add/#addreview\" class=\"btn btn-success btn-sm\">\\n        Write a review\\n    </a>\\n\\n --></p>\\n\\n            \\n\\n            <hr/>\\n\\n            <div class=\"alert alert-warning\" role=\"alert\"><strong>Warning!</strong> This is a demo website for web scraping purposes. Prices and ratings here were randomly assigned and have no real meaning.</div>\\n\\n\\n            \\n                \\n\\n\\n\\n\\n\\n\\n            \\n        </div><!-- /col-sm-6 -->\\n        \\n\\n    </div><!-- /row -->\\n\\n    \\n        \\n        <div id=\"product_description\" class=\"sub-header\">\\n            <h2>Product Description</h2>\\n        </div>\\n        <p>Around the World, continent by continent, here is the best the world has to offer: 1,000 places guaranteed to give travelers the shivers. Sacred ruins, grand hotels, wildlife preserves, hilltop villages, snack shacks, castles, festivals, reefs, restaurants, cathedrals, hidden islands, opera houses, museums, and more. Each entry tells exactly why it\\'s essential to visit. Th Around the World, continent by continent, here is the best the world has to offer: 1,000 places guaranteed to give travelers the shivers. Sacred ruins, grand hotels, wildlife preserves, hilltop villages, snack shacks, castles, festivals, reefs, restaurants, cathedrals, hidden islands, opera houses, museums, and more. Each entry tells exactly why it\\'s essential to visit. Then come the nuts and bolts: addresses, websites, phone and fax numbers, best times to visit. Stop dreaming and get going.This hefty volume reminds vacationers that hot tourist spots are small percentage of what\\'s worth seeing out there. A quick sampling: Venice\\'s Cipriani Hotel; California\\'s Monterey Peninsula; the Lewis and Clark Trail in Oregon; the Great Wall of China; Robert Louis Stevenson\\'s home in Western Samoa; and the Alhambra in Andalusia, Spain. Veteran travel guide writer Schultz divides the book geographically, presenting a little less than a page on each location. Each entry lists exactly where to find the spot (e.g. Moorea is located \"12 miles/19 km northwest of Tahiti; 10 minutes by air, 1 hour by boat\") and when to go (e.g., if you want to check out The Complete Fly Fisher hotel in Montana, \"May and Sept.-Oct. offer productive angling in a solitary setting\"). This is an excellent resource for the intrepid traveler.Copyright 2003 Reed Business Information, Inc. ...more</p>\\n        \\n    \\n\\n    \\n    <div class=\"sub-header\">\\n        <h2>Product Information</h2>\\n    </div>\\n    <table class=\"table table-striped\">\\n        \\n        <tr>\\n            <th>UPC</th><td>228ba5e7577e1d49</td>\\n        </tr>\\n        \\n        <tr>\\n            <th>Product Type</th><td>Books</td>\\n        </tr>\\n\\n        \\n        \\n            <tr>\\n                <th>Price (excl. tax)</th><td>Â£26.08</td>\\n            </tr>\\n            \\n                <tr>\\n                    <th>Price (incl. tax)</th><td>Â£26.08</td>\\n                </tr>\\n                <tr>\\n                    <th>Tax</th><td>Â£0.00</td>\\n                </tr>\\n            \\n            <tr>\\n                <th>Availability</th>\\n                <td>In stock (1 available)</td>\\n            </tr>\\n        \\n        \\n        \\n            <tr>\\n                <th>Number of reviews</th>\\n                <td>0</td>\\n            </tr>\\n        \\n    </table>\\n    \\n\\n    \\n        \\n        <section>\\n            <div id=\"reviews\" class=\"sub-header\">\\n            </div>\\n        </section>\\n        \\n    \\n\\n    \\n        \\n    \\n\\n    \\n\\n\\n\\n    \\n        <div class=\"sub-header\">\\n            <h2>Products you recently viewed</h2>\\n        </div>\\n\\n        <ul class=\"row\">\\n            \\n                <li class=\"col-xs-6 col-sm-4 col-md-3 col-lg-3\">\\n\\n\\n\\n\\n\\n\\n    <article class=\"product_pod\">\\n        \\n            <div class=\"image_container\">\\n                \\n                    \\n                    <a href=\"../neither-here-nor-there-travels-in-europe_198/index.html\"><img src=\"../../media/cache/06/81/0681530a7bc301caf5c3257e1b0f0750.jpg\" alt=\"Neither Here nor There: Travels in Europe\" class=\"thumbnail\"></a>\\n                    \\n                \\n            </div>\\n        \\n\\n        \\n            \\n                <p class=\"star-rating Three\">\\n                    <i class=\"icon-star\"></i>\\n                    <i class=\"icon-star\"></i>\\n                    <i class=\"icon-star\"></i>\\n                    <i class=\"icon-star\"></i>\\n                    <i class=\"icon-star\"></i>\\n                </p>\\n            \\n        \\n\\n        \\n            <h3><a href=\"../neither-here-nor-there-travels-in-europe_198/index.html\" title=\"Neither Here nor There: Travels in Europe\">Neither Here nor There: ...</a></h3>\\n        \\n\\n        \\n            <div class=\"product_price\">\\n                \\n\\n\\n\\n\\n\\n\\n    \\n        <p class=\"price_color\">Â£38.95</p>\\n    \\n\\n<p class=\"instock availability\">\\n    <i class=\"icon-ok\"></i>\\n    \\n        In stock\\n    \\n</p>\\n\\n                \\n                    \\n\\n\\n\\n\\n\\n\\n    \\n    <form>\\n        <button type=\"submit\" class=\"btn btn-primary btn-block\" data-loading-text=\"Adding...\">Add to basket</button>\\n    </form>\\n\\n\\n                \\n            </div>\\n        \\n    </article>\\n\\n</li>\\n            \\n                <li class=\"col-xs-6 col-sm-4 col-md-3 col-lg-3\">\\n\\n\\n\\n\\n\\n\\n    <article class=\"product_pod\">\\n        \\n            <div class=\"image_container\">\\n                \\n                    \\n                    <a href=\"../the-road-to-little-dribbling-adventures-of-an-american-in-britain-notes-from-a-small-island-2_277/index.html\"><img src=\"../../media/cache/e0/4f/e04f8eda2a2fa947aec17640202d9ab0.jpg\" alt=\"The Road to Little Dribbling: Adventures of an American in Britain (Notes From a Small Island #2)\" class=\"thumbnail\"></a>\\n                    \\n                \\n            </div>\\n        \\n\\n        \\n            \\n                <p class=\"star-rating One\">\\n                    <i class=\"icon-star\"></i>\\n                    <i class=\"icon-star\"></i>\\n                    <i class=\"icon-star\"></i>\\n                    <i class=\"icon-star\"></i>\\n                    <i class=\"icon-star\"></i>\\n                </p>\\n            \\n        \\n\\n        \\n            <h3><a href=\"../the-road-to-little-dribbling-adventures-of-an-american-in-britain-notes-from-a-small-island-2_277/index.html\" title=\"The Road to Little Dribbling: Adventures of an American in Britain (Notes From a Small Island #2)\">The Road to Little ...</a></h3>\\n        \\n\\n        \\n            <div class=\"product_price\">\\n                \\n\\n\\n\\n\\n\\n\\n    \\n        <p class=\"price_color\">Â£23.21</p>\\n    \\n\\n<p class=\"instock availability\">\\n    <i class=\"icon-ok\"></i>\\n    \\n        In stock\\n    \\n</p>\\n\\n                \\n                    \\n\\n\\n\\n\\n\\n\\n    \\n    <form>\\n        <button type=\"submit\" class=\"btn btn-primary btn-block\" data-loading-text=\"Adding...\">Add to basket</button>\\n    </form>\\n\\n\\n                \\n            </div>\\n        \\n    </article>\\n\\n</li>\\n            \\n                <li class=\"col-xs-6 col-sm-4 col-md-3 col-lg-3\">\\n\\n\\n\\n\\n\\n\\n    <article class=\"product_pod\">\\n        \\n            <div class=\"image_container\">\\n                \\n                    \\n                    <a href=\"../a-year-in-provence-provence-1_421/index.html\"><img src=\"../../media/cache/db/46/db46159b05faa5d95262112bf9c29ddd.jpg\" alt=\"A Year in Provence (Provence #1)\" class=\"thumbnail\"></a>\\n                    \\n                \\n            </div>\\n        \\n\\n        \\n            \\n                <p class=\"star-rating Four\">\\n                    <i class=\"icon-star\"></i>\\n                    <i class=\"icon-star\"></i>\\n                    <i class=\"icon-star\"></i>\\n                    <i class=\"icon-star\"></i>\\n                    <i class=\"icon-star\"></i>\\n                </p>\\n            \\n        \\n\\n        \\n            <h3><a href=\"../a-year-in-provence-provence-1_421/index.html\" title=\"A Year in Provence (Provence #1)\">A Year in Provence ...</a></h3>\\n        \\n\\n        \\n            <div class=\"product_price\">\\n                \\n\\n\\n\\n\\n\\n\\n    \\n        <p class=\"price_color\">Â£56.88</p>\\n    \\n\\n<p class=\"instock availability\">\\n    <i class=\"icon-ok\"></i>\\n    \\n        In stock\\n    \\n</p>\\n\\n                \\n                    \\n\\n\\n\\n\\n\\n\\n    \\n    <form>\\n        <button type=\"submit\" class=\"btn btn-primary btn-block\" data-loading-text=\"Adding...\">Add to basket</button>\\n    </form>\\n\\n\\n                \\n            </div>\\n        \\n    </article>\\n\\n</li>\\n            \\n                <li class=\"col-xs-6 col-sm-4 col-md-3 col-lg-3\">\\n\\n\\n\\n\\n\\n\\n    <article class=\"product_pod\">\\n        \\n            <div class=\"image_container\">\\n                \\n                    \\n                    <a href=\"../the-great-railway-bazaar_446/index.html\"><img src=\"../../media/cache/76/de/76de41867f323d7f1f4fbe2fdfc1b2ba.jpg\" alt=\"The Great Railway Bazaar\" class=\"thumbnail\"></a>\\n                    \\n                \\n            </div>\\n        \\n\\n        \\n            \\n                <p class=\"star-rating One\">\\n                    <i class=\"icon-star\"></i>\\n                    <i class=\"icon-star\"></i>\\n                    <i class=\"icon-star\"></i>\\n                    <i class=\"icon-star\"></i>\\n                    <i class=\"icon-star\"></i>\\n                </p>\\n            \\n        \\n\\n        \\n            <h3><a href=\"../the-great-railway-bazaar_446/index.html\" title=\"The Great Railway Bazaar\">The Great Railway Bazaar</a></h3>\\n        \\n\\n        \\n            <div class=\"product_price\">\\n                \\n\\n\\n\\n\\n\\n\\n    \\n        <p class=\"price_color\">Â£30.54</p>\\n    \\n\\n<p class=\"instock availability\">\\n    <i class=\"icon-ok\"></i>\\n    \\n        In stock\\n    \\n</p>\\n\\n                \\n                    \\n\\n\\n\\n\\n\\n\\n    \\n    <form>\\n        <button type=\"submit\" class=\"btn btn-primary btn-block\" data-loading-text=\"Adding...\">Add to basket</button>\\n    </form>\\n\\n\\n                \\n            </div>\\n        \\n    </article>\\n\\n</li>\\n            \\n                <li class=\"col-xs-6 col-sm-4 col-md-3 col-lg-3\">\\n\\n\\n\\n\\n\\n\\n    <article class=\"product_pod\">\\n        \\n            <div class=\"image_container\">\\n                \\n                    \\n                    <a href=\"../a-summer-in-europe_458/index.html\"><img src=\"../../media/cache/4e/15/4e15150388702ebca2c5a523ac270539.jpg\" alt=\"A Summer In Europe\" class=\"thumbnail\"></a>\\n                    \\n                \\n            </div>\\n        \\n\\n        \\n            \\n                <p class=\"star-rating Two\">\\n                    <i class=\"icon-star\"></i>\\n                    <i class=\"icon-star\"></i>\\n                    <i class=\"icon-star\"></i>\\n                    <i class=\"icon-star\"></i>\\n                    <i class=\"icon-star\"></i>\\n                </p>\\n            \\n        \\n\\n        \\n            <h3><a href=\"../a-summer-in-europe_458/index.html\" title=\"A Summer In Europe\">A Summer In Europe</a></h3>\\n        \\n\\n        \\n            <div class=\"product_price\">\\n                \\n\\n\\n\\n\\n\\n\\n    \\n        <p class=\"price_color\">Â£44.34</p>\\n    \\n\\n<p class=\"instock availability\">\\n    <i class=\"icon-ok\"></i>\\n    \\n        In stock\\n    \\n</p>\\n\\n                \\n                    \\n\\n\\n\\n\\n\\n\\n    \\n    <form>\\n        <button type=\"submit\" class=\"btn btn-primary btn-block\" data-loading-text=\"Adding...\">Add to basket</button>\\n    </form>\\n\\n\\n                \\n            </div>\\n        \\n    </article>\\n\\n</li>\\n            \\n                <li class=\"col-xs-6 col-sm-4 col-md-3 col-lg-3\">\\n\\n\\n\\n\\n\\n\\n    <article class=\"product_pod\">\\n        \\n            <div class=\"image_container\">\\n                \\n                    \\n                    <a href=\"../under-the-tuscan-sun_504/index.html\"><img src=\"../../media/cache/98/c2/98c2e95c5fd1a4e7cd5f2b63c52826cb.jpg\" alt=\"Under the Tuscan Sun\" class=\"thumbnail\"></a>\\n                    \\n                \\n            </div>\\n        \\n\\n        \\n            \\n                <p class=\"star-rating Three\">\\n                    <i class=\"icon-star\"></i>\\n                    <i class=\"icon-star\"></i>\\n                    <i class=\"icon-star\"></i>\\n                    <i class=\"icon-star\"></i>\\n                    <i class=\"icon-star\"></i>\\n                </p>\\n            \\n        \\n\\n        \\n            <h3><a href=\"../under-the-tuscan-sun_504/index.html\" title=\"Under the Tuscan Sun\">Under the Tuscan Sun</a></h3>\\n        \\n\\n        \\n            <div class=\"product_price\">\\n                \\n\\n\\n\\n\\n\\n\\n    \\n        <p class=\"price_color\">Â£37.33</p>\\n    \\n\\n<p class=\"instock availability\">\\n    <i class=\"icon-ok\"></i>\\n    \\n        In stock\\n    \\n</p>\\n\\n                \\n                    \\n\\n\\n\\n\\n\\n\\n    \\n    <form>\\n        <button type=\"submit\" class=\"btn btn-primary btn-block\" data-loading-text=\"Adding...\">Add to basket</button>\\n    </form>\\n\\n\\n                \\n            </div>\\n        \\n    </article>\\n\\n</li>\\n            \\n        </ul>\\n    \\n\\n\\n\\n</article><!-- End of product page -->\\n</div>\\n                </div>\\n            </div>\\n        </div>\\n    \\n\\n    \\n<footer class=\"footer container-fluid\">\\n    \\n        \\n    \\n</footer>\\n\\n\\n        \\n        \\n  \\n            <!-- jQuery -->\\n            <script src=\"http://ajax.googleapis.com/ajax/libs/jquery/1.9.1/jquery.min.js\"></script>\\n            <script>window.jQuery || document.write(\\'<script src=\"../../static/oscar/js/jquery/jquery-1.9.1.min.js\"><\\\\/script>\\')</script>\\n        \\n  \\n\\n\\n        \\n        \\n    \\n        \\n    <!-- Twitter Bootstrap -->\\n    <script type=\"text/javascript\" src=\"../../static/oscar/js/bootstrap3/bootstrap.min.js\"></script>\\n    <!-- Oscar -->\\n    <script src=\"../../static/oscar/js/oscar/ui.js\" type=\"text/javascript\" charset=\"utf-8\"></script>\\n\\n    <script src=\"../../static/oscar/js/bootstrap-datetimepicker/bootstrap-datetimepicker.js\" type=\"text/javascript\" charset=\"utf-8\"></script>\\n    <script src=\"../../static/oscar/js/bootstrap-datetimepicker/locales/bootstrap-datetimepicker.all.js\" type=\"text/javascript\" charset=\"utf-8\"></script>\\n\\n\\n        \\n        \\n    \\n    \\n\\n    \\n\\n\\n\\n        \\n        <script type=\"text/javascript\">\\n            $(function() {\\n                \\n    \\n    oscar.init();\\n\\n            });\\n        </script>\\n\\n        \\n        <!-- Version: N/A -->\\n        \\n    </body>\\n</html>\\n'"
      ]
     },
     "execution_count": 6,
     "metadata": {},
     "output_type": "execute_result"
    }
   ],
   "source": [
    "content\n"
   ]
  },
  {
   "cell_type": "code",
   "execution_count": 7,
   "id": "37c9f0c6",
   "metadata": {},
   "outputs": [],
   "source": [
    "content = content.replace(\"\\n\", \" \")"
   ]
  },
  {
   "cell_type": "code",
   "execution_count": 8,
   "id": "65254981",
   "metadata": {},
   "outputs": [
    {
     "data": {
      "text/plain": [
       "19999"
      ]
     },
     "execution_count": 8,
     "metadata": {},
     "output_type": "execute_result"
    }
   ],
   "source": [
    "len(content)"
   ]
  },
  {
   "cell_type": "code",
   "execution_count": 9,
   "id": "dfcd7e00",
   "metadata": {},
   "outputs": [
    {
     "data": {
      "text/plain": [
       "'  <!DOCTYPE html> <!--[if lt IE 7]>      <html lang=\"en-us\" class=\"no-js lt-ie9 lt-ie8 lt-ie7\"> <![endif]--> <!--[if IE 7]>         <html lang=\"en-us\" class=\"no-js lt-ie9 lt-ie8\"> <![endif]--> <!--[if IE 8]>         <html lang=\"en-us\" class=\"no-js lt-ie9\"> <![endif]--> <!--[if gt IE 8]><!--> <html lang=\"en-us\" class=\"no-js\"> <!--<![endif]-->     <head>         <title>     1,000 Places to See Before You Die | Books to Scrape - Sandbox </title>          <meta http-equiv=\"content-type\" content=\"text/html; charset=UTF-8\" />         <meta name=\"created\" content=\"24th Jun 2016 09:29\" />         <meta name=\"description\" content=\"     Around the World, continent by continent, here is the best the world has to offer: 1,000 places guaranteed to give travelers the shivers. Sacred ruins, grand hotels, wildlife preserves, hilltop villages, snack shacks, castles, festivals, reefs, restaurants, cathedrals, hidden islands, opera houses, museums, and more. Each entry tells exactly why it&#39;s essential to visit. Th Around the World, continent by continent, here is the best the world has to offer: 1,000 places guaranteed to give travelers the shivers. Sacred ruins, grand hotels, wildlife preserves, hilltop villages, snack shacks, castles, festivals, reefs, restaurants, cathedrals, hidden islands, opera houses, museums, and more. Each entry tells exactly why it&#39;s essential to visit. Then come the nuts and bolts: addresses, websites, phone and fax numbers, best times to visit. Stop dreaming and get going.This hefty volume reminds vacationers that hot tourist spots are small percentage of what&#39;s worth seeing out there. A quick sampling: Venice&#39;s Cipriani Hotel; California&#39;s Monterey Peninsula; the Lewis and Clark Trail in Oregon; the Great Wall of China; Robert Louis Stevenson&#39;s home in Western Samoa; and the Alhambra in Andalusia, Spain. Veteran travel guide writer Schultz divides the book geographically, presenting a little less than a page on each location. Each entry lists exactly where to find the spot (e.g. Moorea is located &quot;12 miles/19 km northwest of Tahiti; 10 minutes by air, 1 hour by boat&quot;) and when to go (e.g., if you want to check out The Complete Fly Fisher hotel in Montana, &quot;May and Sept.-Oct. offer productive angling in a solitary setting&quot;). This is an excellent resource for the intrepid traveler.Copyright 2003 Reed Business Information, Inc. ...more \" />         <meta name=\"viewport\" content=\"width=device-width\" />         <meta name=\"robots\" content=\"NOARCHIVE,NOCACHE\" />          <!-- Le HTML5 shim, for IE6-8 support of HTML elements -->         <!--[if lt IE 9]>         <script src=\"//html5shim.googlecode.com/svn/trunk/html5.js\"></script>         <![endif]-->                       <link rel=\"shortcut icon\" href=\"../../static/oscar/favicon.ico\" />                                               <link rel=\"stylesheet\" type=\"text/css\" href=\"../../static/oscar/css/styles.css\" />          <link rel=\"stylesheet\" href=\"../../static/oscar/js/bootstrap-datetimepicker/bootstrap-datetimepicker.css\" />     <link rel=\"stylesheet\" type=\"text/css\" href=\"../../static/oscar/css/datetimepicker.css\" />                                                                                 </head>      <body id=\"default\" class=\"default\">                                 <header class=\"header container-fluid\">         <div class=\"page_inner\">             <div class=\"row\">                 <div class=\"col-sm-8 h1\"><a href=\"../../index.html\">Books to Scrape</a><small> We love being scraped!</small> </div>                               </div>         </div>     </header>                    <div class=\"container-fluid page\">             <div class=\"page_inner\">                  <ul class=\"breadcrumb\">     <li>         <a href=\"../../index.html\">Home</a>     </li>                       <li>             <a href=\"../category/books_1/index.html\">Books</a>         </li>                  <li>             <a href=\"../category/books/travel_2/index.html\">Travel</a>         </li>                  <li class=\"active\">1,000 Places to See Before You Die</li>                         </ul>                                        <div id=\"messages\">  </div>                                   <div class=\"content\">                                                                <div id=\"promotions\">                                              </div>                                           <div id=\"content_inner\">  <article class=\"product_page\"><!-- Start of product page -->      <div class=\"row\">                   <div class=\"col-sm-6\">                                               <div id=\"product_gallery\" class=\"carousel\">             <div class=\"thumbnail\">                 <div class=\"carousel-inner\">                     <div class=\"item active\">                                                                           <img src=\"../../media/cache/9e/10/9e106f81f65b293e488718a4f54a6a3f.jpg\" alt=\"1,000 Places to See Before You Die\" />                                                                   </div>                 </div>             </div>         </div>                 </div>                            <div class=\"col-sm-6 product_main\">                                       <h1>1,000 Places to See Before You Die</h1>                                                   <p class=\"price_color\">Â£26.08</p>       <p class=\"instock availability\">     <i class=\"icon-ok\"></i>              In stock (1 available)      </p>                                                     <p class=\"star-rating Five\">         <i class=\"icon-star\"></i>         <i class=\"icon-star\"></i>         <i class=\"icon-star\"></i>         <i class=\"icon-star\"></i>         <i class=\"icon-star\"></i>          <!-- <small><a href=\"/catalogue/1000-places-to-see-before-you-die_1/reviews/\">                                               0 customer reviews                          </a></small>          -->&nbsp;   <!--      <a id=\"write_review\" href=\"/catalogue/1000-places-to-see-before-you-die_1/reviews/add/#addreview\" class=\"btn btn-success btn-sm\">         Write a review     </a>   --></p>                            <hr/>              <div class=\"alert alert-warning\" role=\"alert\"><strong>Warning!</strong> This is a demo website for web scraping purposes. Prices and ratings here were randomly assigned and have no real meaning.</div>                                                            </div><!-- /col-sm-6 -->               </div><!-- /row -->                        <div id=\"product_description\" class=\"sub-header\">             <h2>Product Description</h2>         </div>         <p>Around the World, continent by continent, here is the best the world has to offer: 1,000 places guaranteed to give travelers the shivers. Sacred ruins, grand hotels, wildlife preserves, hilltop villages, snack shacks, castles, festivals, reefs, restaurants, cathedrals, hidden islands, opera houses, museums, and more. Each entry tells exactly why it\\'s essential to visit. Th Around the World, continent by continent, here is the best the world has to offer: 1,000 places guaranteed to give travelers the shivers. Sacred ruins, grand hotels, wildlife preserves, hilltop villages, snack shacks, castles, festivals, reefs, restaurants, cathedrals, hidden islands, opera houses, museums, and more. Each entry tells exactly why it\\'s essential to visit. Then come the nuts and bolts: addresses, websites, phone and fax numbers, best times to visit. Stop dreaming and get going.This hefty volume reminds vacationers that hot tourist spots are small percentage of what\\'s worth seeing out there. A quick sampling: Venice\\'s Cipriani Hotel; California\\'s Monterey Peninsula; the Lewis and Clark Trail in Oregon; the Great Wall of China; Robert Louis Stevenson\\'s home in Western Samoa; and the Alhambra in Andalusia, Spain. Veteran travel guide writer Schultz divides the book geographically, presenting a little less than a page on each location. Each entry lists exactly where to find the spot (e.g. Moorea is located \"12 miles/19 km northwest of Tahiti; 10 minutes by air, 1 hour by boat\") and when to go (e.g., if you want to check out The Complete Fly Fisher hotel in Montana, \"May and Sept.-Oct. offer productive angling in a solitary setting\"). This is an excellent resource for the intrepid traveler.Copyright 2003 Reed Business Information, Inc. ...more</p>                         <div class=\"sub-header\">         <h2>Product Information</h2>     </div>     <table class=\"table table-striped\">                  <tr>             <th>UPC</th><td>228ba5e7577e1d49</td>         </tr>                  <tr>             <th>Product Type</th><td>Books</td>         </tr>                                <tr>                 <th>Price (excl. tax)</th><td>Â£26.08</td>             </tr>                              <tr>                     <th>Price (incl. tax)</th><td>Â£26.08</td>                 </tr>                 <tr>                     <th>Tax</th><td>Â£0.00</td>                 </tr>                          <tr>                 <th>Availability</th>                 <td>In stock (1 available)</td>             </tr>                                        <tr>                 <th>Number of reviews</th>                 <td>0</td>             </tr>              </table>                             <section>             <div id=\"reviews\" class=\"sub-header\">             </div>         </section>                                                         <div class=\"sub-header\">             <h2>Products you recently viewed</h2>         </div>          <ul class=\"row\">                              <li class=\"col-xs-6 col-sm-4 col-md-3 col-lg-3\">           <article class=\"product_pod\">                      <div class=\"image_container\">                                                           <a href=\"../neither-here-nor-there-travels-in-europe_198/index.html\"><img src=\"../../media/cache/06/81/0681530a7bc301caf5c3257e1b0f0750.jpg\" alt=\"Neither Here nor There: Travels in Europe\" class=\"thumbnail\"></a>                                                   </div>                                                 <p class=\"star-rating Three\">                     <i class=\"icon-star\"></i>                     <i class=\"icon-star\"></i>                     <i class=\"icon-star\"></i>                     <i class=\"icon-star\"></i>                     <i class=\"icon-star\"></i>                 </p>                                             <h3><a href=\"../neither-here-nor-there-travels-in-europe_198/index.html\" title=\"Neither Here nor There: Travels in Europe\">Neither Here nor There: ...</a></h3>                                <div class=\"product_price\">                                     <p class=\"price_color\">Â£38.95</p>       <p class=\"instock availability\">     <i class=\"icon-ok\"></i>              In stock      </p>                                                       <form>         <button type=\"submit\" class=\"btn btn-primary btn-block\" data-loading-text=\"Adding...\">Add to basket</button>     </form>                                </div>              </article>  </li>                              <li class=\"col-xs-6 col-sm-4 col-md-3 col-lg-3\">           <article class=\"product_pod\">                      <div class=\"image_container\">                                                           <a href=\"../the-road-to-little-dribbling-adventures-of-an-american-in-britain-notes-from-a-small-island-2_277/index.html\"><img src=\"../../media/cache/e0/4f/e04f8eda2a2fa947aec17640202d9ab0.jpg\" alt=\"The Road to Little Dribbling: Adventures of an American in Britain (Notes From a Small Island #2)\" class=\"thumbnail\"></a>                                                   </div>                                                 <p class=\"star-rating One\">                     <i class=\"icon-star\"></i>                     <i class=\"icon-star\"></i>                     <i class=\"icon-star\"></i>                     <i class=\"icon-star\"></i>                     <i class=\"icon-star\"></i>                 </p>                                             <h3><a href=\"../the-road-to-little-dribbling-adventures-of-an-american-in-britain-notes-from-a-small-island-2_277/index.html\" title=\"The Road to Little Dribbling: Adventures of an American in Britain (Notes From a Small Island #2)\">The Road to Little ...</a></h3>                                <div class=\"product_price\">                                     <p class=\"price_color\">Â£23.21</p>       <p class=\"instock availability\">     <i class=\"icon-ok\"></i>              In stock      </p>                                                       <form>         <button type=\"submit\" class=\"btn btn-primary btn-block\" data-loading-text=\"Adding...\">Add to basket</button>     </form>                                </div>              </article>  </li>                              <li class=\"col-xs-6 col-sm-4 col-md-3 col-lg-3\">           <article class=\"product_pod\">                      <div class=\"image_container\">                                                           <a href=\"../a-year-in-provence-provence-1_421/index.html\"><img src=\"../../media/cache/db/46/db46159b05faa5d95262112bf9c29ddd.jpg\" alt=\"A Year in Provence (Provence #1)\" class=\"thumbnail\"></a>                                                   </div>                                                 <p class=\"star-rating Four\">                     <i class=\"icon-star\"></i>                     <i class=\"icon-star\"></i>                     <i class=\"icon-star\"></i>                     <i class=\"icon-star\"></i>                     <i class=\"icon-star\"></i>                 </p>                                             <h3><a href=\"../a-year-in-provence-provence-1_421/index.html\" title=\"A Year in Provence (Provence #1)\">A Year in Provence ...</a></h3>                                <div class=\"product_price\">                                     <p class=\"price_color\">Â£56.88</p>       <p class=\"instock availability\">     <i class=\"icon-ok\"></i>              In stock      </p>                                                       <form>         <button type=\"submit\" class=\"btn btn-primary btn-block\" data-loading-text=\"Adding...\">Add to basket</button>     </form>                                </div>              </article>  </li>                              <li class=\"col-xs-6 col-sm-4 col-md-3 col-lg-3\">           <article class=\"product_pod\">                      <div class=\"image_container\">                                                           <a href=\"../the-great-railway-bazaar_446/index.html\"><img src=\"../../media/cache/76/de/76de41867f323d7f1f4fbe2fdfc1b2ba.jpg\" alt=\"The Great Railway Bazaar\" class=\"thumbnail\"></a>                                                   </div>                                                 <p class=\"star-rating One\">                     <i class=\"icon-star\"></i>                     <i class=\"icon-star\"></i>                     <i class=\"icon-star\"></i>                     <i class=\"icon-star\"></i>                     <i class=\"icon-star\"></i>                 </p>                                             <h3><a href=\"../the-great-railway-bazaar_446/index.html\" title=\"The Great Railway Bazaar\">The Great Railway Bazaar</a></h3>                                <div class=\"product_price\">                                     <p class=\"price_color\">Â£30.54</p>       <p class=\"instock availability\">     <i class=\"icon-ok\"></i>              In stock      </p>                                                       <form>         <button type=\"submit\" class=\"btn btn-primary btn-block\" data-loading-text=\"Adding...\">Add to basket</button>     </form>                                </div>              </article>  </li>                              <li class=\"col-xs-6 col-sm-4 col-md-3 col-lg-3\">           <article class=\"product_pod\">                      <div class=\"image_container\">                                                           <a href=\"../a-summer-in-europe_458/index.html\"><img src=\"../../media/cache/4e/15/4e15150388702ebca2c5a523ac270539.jpg\" alt=\"A Summer In Europe\" class=\"thumbnail\"></a>                                                   </div>                                                 <p class=\"star-rating Two\">                     <i class=\"icon-star\"></i>                     <i class=\"icon-star\"></i>                     <i class=\"icon-star\"></i>                     <i class=\"icon-star\"></i>                     <i class=\"icon-star\"></i>                 </p>                                             <h3><a href=\"../a-summer-in-europe_458/index.html\" title=\"A Summer In Europe\">A Summer In Europe</a></h3>                                <div class=\"product_price\">                                     <p class=\"price_color\">Â£44.34</p>       <p class=\"instock availability\">     <i class=\"icon-ok\"></i>              In stock      </p>                                                       <form>         <button type=\"submit\" class=\"btn btn-primary btn-block\" data-loading-text=\"Adding...\">Add to basket</button>     </form>                                </div>              </article>  </li>                              <li class=\"col-xs-6 col-sm-4 col-md-3 col-lg-3\">           <article class=\"product_pod\">                      <div class=\"image_container\">                                                           <a href=\"../under-the-tuscan-sun_504/index.html\"><img src=\"../../media/cache/98/c2/98c2e95c5fd1a4e7cd5f2b63c52826cb.jpg\" alt=\"Under the Tuscan Sun\" class=\"thumbnail\"></a>                                                   </div>                                                 <p class=\"star-rating Three\">                     <i class=\"icon-star\"></i>                     <i class=\"icon-star\"></i>                     <i class=\"icon-star\"></i>                     <i class=\"icon-star\"></i>                     <i class=\"icon-star\"></i>                 </p>                                             <h3><a href=\"../under-the-tuscan-sun_504/index.html\" title=\"Under the Tuscan Sun\">Under the Tuscan Sun</a></h3>                                <div class=\"product_price\">                                     <p class=\"price_color\">Â£37.33</p>       <p class=\"instock availability\">     <i class=\"icon-ok\"></i>              In stock      </p>                                                       <form>         <button type=\"submit\" class=\"btn btn-primary btn-block\" data-loading-text=\"Adding...\">Add to basket</button>     </form>                                </div>              </article>  </li>                      </ul>         </article><!-- End of product page --> </div>                 </div>             </div>         </div>            <footer class=\"footer container-fluid\">                    </footer>                                    <!-- jQuery -->             <script src=\"http://ajax.googleapis.com/ajax/libs/jquery/1.9.1/jquery.min.js\"></script>             <script>window.jQuery || document.write(\\'<script src=\"../../static/oscar/js/jquery/jquery-1.9.1.min.js\"><\\\\/script>\\')</script>                                                   <!-- Twitter Bootstrap -->     <script type=\"text/javascript\" src=\"../../static/oscar/js/bootstrap3/bootstrap.min.js\"></script>     <!-- Oscar -->     <script src=\"../../static/oscar/js/oscar/ui.js\" type=\"text/javascript\" charset=\"utf-8\"></script>      <script src=\"../../static/oscar/js/bootstrap-datetimepicker/bootstrap-datetimepicker.js\" type=\"text/javascript\" charset=\"utf-8\"></script>     <script src=\"../../static/oscar/js/bootstrap-datetimepicker/locales/bootstrap-datetimepicker.all.js\" type=\"text/javascript\" charset=\"utf-8\"></script>                                                         <script type=\"text/javascript\">             $(function() {                           oscar.init();              });         </script>                   <!-- Version: N/A -->              </body> </html> '"
      ]
     },
     "execution_count": 9,
     "metadata": {},
     "output_type": "execute_result"
    }
   ],
   "source": [
    "content"
   ]
  },
  {
   "cell_type": "code",
   "execution_count": 10,
   "id": "861c4008",
   "metadata": {},
   "outputs": [
    {
     "data": {
      "text/plain": [
       "['../../media/cache/9e/10/9e106f81f65b293e488718a4f54a6a3f.jpg']"
      ]
     },
     "execution_count": 10,
     "metadata": {},
     "output_type": "execute_result"
    }
   ],
   "source": [
    "imag_pat = re.compile(r'<div class=\"item active\">\\s*<img src=\"(.*?)\"')\n",
    "imag_pat.findall(content)"
   ]
  },
  {
   "cell_type": "code",
   "execution_count": 11,
   "id": "1f38b6f6",
   "metadata": {},
   "outputs": [
    {
     "data": {
      "text/plain": [
       "['Around the World, continent by continent, here is the best the world has to offer: 1,000 places guaranteed to give travelers the shivers. Sacred ruins, grand hotels, wildlife preserves, hilltop villages, snack shacks, castles, festivals, reefs, restaurants, cathedrals, hidden islands, opera houses, museums, and more. Each entry tells exactly why it\\'s essential to visit. Th Around the World, continent by continent, here is the best the world has to offer: 1,000 places guaranteed to give travelers the shivers. Sacred ruins, grand hotels, wildlife preserves, hilltop villages, snack shacks, castles, festivals, reefs, restaurants, cathedrals, hidden islands, opera houses, museums, and more. Each entry tells exactly why it\\'s essential to visit. Then come the nuts and bolts: addresses, websites, phone and fax numbers, best times to visit. Stop dreaming and get going.This hefty volume reminds vacationers that hot tourist spots are small percentage of what\\'s worth seeing out there. A quick sampling: Venice\\'s Cipriani Hotel; California\\'s Monterey Peninsula; the Lewis and Clark Trail in Oregon; the Great Wall of China; Robert Louis Stevenson\\'s home in Western Samoa; and the Alhambra in Andalusia, Spain. Veteran travel guide writer Schultz divides the book geographically, presenting a little less than a page on each location. Each entry lists exactly where to find the spot (e.g. Moorea is located \"12 miles/19 km northwest of Tahiti; 10 minutes by air, 1 hour by boat\") and when to go (e.g., if you want to check out The Complete Fly Fisher hotel in Montana, \"May and Sept.-Oct. offer productive angling in a solitary setting\"). This is an excellent resource for the intrepid traveler.Copyright 2003 Reed Business Information, Inc. ...more']"
      ]
     },
     "execution_count": 11,
     "metadata": {},
     "output_type": "execute_result"
    }
   ],
   "source": [
    "desc_pat = re.compile(r'<div id=\"product_description\" class=\"sub-header\">.*?<p>(.*?)</p>')\n",
    "desc_pat.findall(content)"
   ]
  },
  {
   "cell_type": "code",
   "execution_count": 12,
   "id": "3a6737be",
   "metadata": {},
   "outputs": [
    {
     "data": {
      "text/plain": [
       "['228ba5e7577e1d49']"
      ]
     },
     "execution_count": 12,
     "metadata": {},
     "output_type": "execute_result"
    }
   ],
   "source": [
    "upc_pat = re.compile(r'<th>UPC</th>\\s*<td>(.*?)</td>')\n",
    "upc_pat.findall(content)"
   ]
  },
  {
   "cell_type": "code",
   "execution_count": 13,
   "id": "f3b89c31",
   "metadata": {},
   "outputs": [
    {
     "data": {
      "text/plain": [
       "['Â£26.08']"
      ]
     },
     "execution_count": 13,
     "metadata": {},
     "output_type": "execute_result"
    }
   ],
   "source": [
    "price_pat = re.compile(r'<th>Price \\(excl. tax\\)</th>\\s*<td>(.*?)</td>')\n",
    "price_pat.findall(content)\n"
   ]
  },
  {
   "cell_type": "code",
   "execution_count": 18,
   "id": "d8e1671c",
   "metadata": {},
   "outputs": [
    {
     "data": {
      "text/plain": [
       "['26.08']"
      ]
     },
     "execution_count": 18,
     "metadata": {},
     "output_type": "execute_result"
    }
   ],
   "source": [
    "price_pat = re.compile(r'<th>Price \\(incl. tax\\)</th>\\s*<td>\\D+([\\d.]+?)</td>')\n",
    "price_pat.findall(content)"
   ]
  },
  {
   "cell_type": "code",
   "execution_count": 19,
   "id": "3de1d1ae",
   "metadata": {},
   "outputs": [
    {
     "data": {
      "text/plain": [
       "['In stock (1 available)']"
      ]
     },
     "execution_count": 19,
     "metadata": {},
     "output_type": "execute_result"
    }
   ],
   "source": [
    "import re\n",
    "avail_pat = re.compile(r'th>Availability</th>\\s*<td>(.*?)</td>')\n",
    "avail_pat.findall(content)"
   ]
  },
  {
   "cell_type": "code",
   "execution_count": null,
   "id": "0599db45",
   "metadata": {},
   "outputs": [],
   "source": []
  }
 ],
 "metadata": {
  "kernelspec": {
   "display_name": "Python 3 (ipykernel)",
   "language": "python",
   "name": "python3"
  },
  "language_info": {
   "codemirror_mode": {
    "name": "ipython",
    "version": 3
   },
   "file_extension": ".py",
   "mimetype": "text/x-python",
   "name": "python",
   "nbconvert_exporter": "python",
   "pygments_lexer": "ipython3",
   "version": "3.9.13"
  }
 },
 "nbformat": 4,
 "nbformat_minor": 5
}
